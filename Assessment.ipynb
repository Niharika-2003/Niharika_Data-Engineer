{
 "cells": [
  {
   "cell_type": "code",
   "execution_count": 4,
   "id": "2725a2fc",
   "metadata": {},
   "outputs": [],
   "source": [
    "import xml.etree.ElementTree as ET\n",
    "import csv\n",
    "\n",
    "# Parse the XML document\n",
    "tree = ET.parse(\"DLTINS_20210117_01of01.xml\")\n",
    "root = tree.getroot()\n",
    "\n",
    "# Create a CSV file\n",
    "with open(\"output1.csv\", \"w\", newline=\"\") as f:\n",
    "    writer = csv.writer(f)\n",
    "\n",
    "    # Write the header row\n",
    "    writer.writerow([\n",
    "        \"FinInstrmGnlAttrbts.Id\",\n",
    "        \"FinInstrmGnlAttrbts.FullNm\",\n",
    "        \"FinInstrmGnlAttrbts.ClssfctnTp\",\n",
    "        \"FinInstrmGnlAttrbts.CmmdtyDerivInd\",\n",
    "        \"FinInstrmGnlAttrbts.NtnlCcy\",\n",
    "        \"Issr\"\n",
    "    ])\n",
    "\n",
    "    # Extract the relevant information from the XML document\n",
    "    \n",
    "    for instrument in root.findall(\".//Instrmt\"):\n",
    "        if(instrument):\n",
    "            \n",
    "         id = instrument.find(\"./FinInstrmGnlAttrbts/Id\").text\n",
    "         full_name = instrument.find(\"./FinInstrmGnlAttrbts/FullNm\").text\n",
    "         classification_type = instrument.find(\"./FinInstrmGnlAttrbts/ClssfctnTp\").text\n",
    "         commodity_derivative_indicator = instrument.find(\"./FinInstrmGnlAttrbts/CmmdtyDerivInd\").text\n",
    "         national_currency = instrument.find(\"./FinInstrmGnlAttrbts/NtnlCcy\").text\n",
    "         issuer = instrument.find(\"./Issr\").text\n",
    "\n",
    "        # Write the information to the CSV file\n",
    "        writer.writerow([\n",
    "            id,\n",
    "            full_name,\n",
    "            classification_type,\n",
    "            commodity_derivative_indicator,\n",
    "            national_currency,\n",
    "            issuer\n",
    "        ])\n"
   ]
  },
  {
   "cell_type": "code",
   "execution_count": null,
   "id": "9c5063df",
   "metadata": {},
   "outputs": [],
   "source": []
  }
 ],
 "metadata": {
  "kernelspec": {
   "display_name": "Python 3 (ipykernel)",
   "language": "python",
   "name": "python3"
  },
  "language_info": {
   "codemirror_mode": {
    "name": "ipython",
    "version": 3
   },
   "file_extension": ".py",
   "mimetype": "text/x-python",
   "name": "python",
   "nbconvert_exporter": "python",
   "pygments_lexer": "ipython3",
   "version": "3.9.12"
  }
 },
 "nbformat": 4,
 "nbformat_minor": 5
}
